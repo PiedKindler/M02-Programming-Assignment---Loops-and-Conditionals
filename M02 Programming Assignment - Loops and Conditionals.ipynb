{
 "cells": [
  {
   "cell_type": "code",
   "execution_count": 12,
   "id": "12530032-75ec-44b4-ae1f-d708302312fd",
   "metadata": {},
   "outputs": [
    {
     "name": "stdout",
     "output_type": "stream",
     "text": [
      "Misty Mayfield\n",
      "CO3937652\n",
      "SDEV220 Spring Software Development\n",
      "M02 Programming Assignment - Loops and Conditionals, Ch6 4 and 6\n",
      "1/29/23\n"
     ]
    }
   ],
   "source": [
    "print(\"Misty Mayfield\")\n",
    "print(\"CO3937652\")\n",
    "print(\"SDEV220 Spring Software Development\")\n",
    "print(\"M02 Programming Assignment - Loops and Conditionals, Ch6 4 and 6\")\n",
    "print(\"1/29/23\")"
   ]
  },
  {
   "cell_type": "code",
   "execution_count": 6,
   "id": "4c4c54ae-8990-4c97-aa89-25e76462c381",
   "metadata": {},
   "outputs": [
    {
     "name": "stdout",
     "output_type": "stream",
     "text": [
      "too high\n"
     ]
    }
   ],
   "source": [
    "secret = 3\n",
    "guess = 5\n",
    "\n",
    "if guess < secret:\n",
    "    print('too low')\n",
    "elif guess > secret:\n",
    "    print('too high')\n",
    "elif guess == secret:\n",
    "    print('just right')"
   ]
  },
  {
   "cell_type": "code",
   "execution_count": 13,
   "id": "6103f362-a89f-45aa-b9aa-42892eeb9560",
   "metadata": {},
   "outputs": [
    {
     "name": "stdout",
     "output_type": "stream",
     "text": [
      "watermelon\n"
     ]
    }
   ],
   "source": [
    "small = False\n",
    "green = True\n",
    "\n",
    "if small:\n",
    "    if green:\n",
    "        print('pea')\n",
    "    else:\n",
    "        print('cherry')\n",
    "else:\n",
    "    if green:\n",
    "        print('watermelon') \n",
    "    else:          \n",
    "        print('pumpkin')"
   ]
  },
  {
   "cell_type": "code",
   "execution_count": 16,
   "id": "02d9eae2-2f1f-4898-bef8-bc8eaafbd7ae",
   "metadata": {},
   "outputs": [
    {
     "name": "stdout",
     "output_type": "stream",
     "text": [
      "3\n",
      "2\n",
      "1\n",
      "0\n"
     ]
    },
    {
     "data": {
      "text/plain": [
       "[3, 2, 1, 0]"
      ]
     },
     "execution_count": 16,
     "metadata": {},
     "output_type": "execute_result"
    }
   ],
   "source": [
    "for x in range(3, -1, -1):\n",
    "    print(x)\n",
    "list( range(3, -1, -1) )"
   ]
  },
  {
   "cell_type": "code",
   "execution_count": 22,
   "id": "f268d521-f06d-40ac-b5fa-d2d7ed6faeae",
   "metadata": {},
   "outputs": [
    {
     "name": "stdout",
     "output_type": "stream",
     "text": [
      "1 too low\n",
      "2 too low\n",
      "3 too low\n",
      "4 too low\n",
      "5 too low\n",
      "6 too low\n",
      "7 found it!\n"
     ]
    }
   ],
   "source": [
    "guess_me = 7\n",
    "number = 1\n",
    "\n",
    "while number < 10:\n",
    "    if number < guess_me:\n",
    "        print(number, 'too low')\n",
    "    elif number == guess_me:\n",
    "        print(number, 'found it!')\n",
    "        break\n",
    "    elif number > guess_me:\n",
    "        print(number, 'oops')\n",
    "        break\n",
    "    number += 1"
   ]
  },
  {
   "cell_type": "code",
   "execution_count": 24,
   "id": "7d904a62-2967-4657-b7bc-5215dff145db",
   "metadata": {},
   "outputs": [
    {
     "name": "stdout",
     "output_type": "stream",
     "text": [
      "0 too low\n",
      "1 too low\n",
      "2 too low\n",
      "3 too low\n",
      "4 too low\n",
      "5 found it!\n"
     ]
    }
   ],
   "source": [
    "guess_me = 5\n",
    "\n",
    "for number in range(10):\n",
    "    if number < guess_me:\n",
    "        print(number, 'too low')\n",
    "    elif number == guess_me:\n",
    "        print(number, 'found it!')\n",
    "        break\n",
    "    elif number > guess_me:\n",
    "        print(number, 'oops')\n",
    "        break"
   ]
  }
 ],
 "metadata": {
  "kernelspec": {
   "display_name": "Python 3 (ipykernel)",
   "language": "python",
   "name": "python3"
  },
  "language_info": {
   "codemirror_mode": {
    "name": "ipython",
    "version": 3
   },
   "file_extension": ".py",
   "mimetype": "text/x-python",
   "name": "python",
   "nbconvert_exporter": "python",
   "pygments_lexer": "ipython3",
   "version": "3.9.13"
  }
 },
 "nbformat": 4,
 "nbformat_minor": 5
}
